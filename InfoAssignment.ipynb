{
  "nbformat": 4,
  "nbformat_minor": 0,
  "metadata": {
    "colab": {
      "provenance": []
    },
    "kernelspec": {
      "name": "python3",
      "display_name": "Python 3"
    },
    "language_info": {
      "name": "python"
    }
  },
  "cells": [
    {
      "cell_type": "markdown",
      "source": [
        "AES Encryption and Decryption"
      ],
      "metadata": {
        "id": "zVg1z-uxYcnL"
      }
    },
    {
      "cell_type": "code",
      "execution_count": 1,
      "metadata": {
        "id": "rm84S26ZYCu-"
      },
      "outputs": [],
      "source": [
        "from cryptography.hazmat.primitives.ciphers import Cipher, algorithms, modes\n",
        "from cryptography.hazmat.backends import default_backend\n",
        "from cryptography.hazmat.primitives import padding\n",
        "import os"
      ]
    },
    {
      "cell_type": "code",
      "source": [
        "class AESCipher:\n",
        "    def __init__(self, key):\n",
        "        self.key = key\n",
        "        self.backend = default_backend()\n",
        "\n",
        "    def encrypt(self, plaintext):\n",
        "        iv = os.urandom(16)\n",
        "        cipher = Cipher(algorithms.AES(self.key), modes.CBC(iv), backend=self.backend)\n",
        "        padder = padding.PKCS7(128).padder()\n",
        "        padded_data = padder.update(plaintext) + padder.finalize()\n",
        "        encryptor = cipher.encryptor()\n",
        "        ciphertext = encryptor.update(padded_data) + encryptor.finalize()\n",
        "        return iv + ciphertext\n",
        "\n",
        "    def decrypt(self, ciphertext):\n",
        "        iv = ciphertext[:16]\n",
        "        cipher = Cipher(algorithms.AES(self.key), modes.CBC(iv), backend=self.backend)\n",
        "        decryptor = cipher.decryptor()\n",
        "        padded_plaintext = decryptor.update(ciphertext[16:]) + decryptor.finalize()\n",
        "        unpadder = padding.PKCS7(128).unpadder()\n",
        "        plaintext = unpadder.update(padded_plaintext) + unpadder.finalize()\n",
        "        return plaintext\n",
        "\n",
        "# Example usage\n",
        "key = os.urandom(32)  # AES-256 key\n",
        "aes_cipher = AESCipher(key)\n",
        "\n",
        "plaintext = b\"Hello, World!\"\n",
        "ciphertext = aes_cipher.encrypt(plaintext)\n",
        "print(\"Encrypted:\", ciphertext)\n",
        "\n",
        "decrypted = aes_cipher.decrypt(ciphertext)\n",
        "print(\"Decrypted:\", decrypted)\n"
      ],
      "metadata": {
        "colab": {
          "base_uri": "https://localhost:8080/"
        },
        "id": "6_ThV2nVYDSO",
        "outputId": "f303a54c-83c1-4829-a832-7a87871ca5cc"
      },
      "execution_count": 2,
      "outputs": [
        {
          "output_type": "stream",
          "name": "stdout",
          "text": [
            "Encrypted: b'\\xe9\\xef\\xb2\\x92\\xda\\xd1H\\xe2;\\xb2\"8\\xf4{\\xe7\\xa6\\xd8\\xfd\\x03\\x892b\\x8b\\x18\\xe3ls\\xd5Y\\xd5\\xc8\\x80'\n",
            "Decrypted: b'Hello, World!'\n"
          ]
        }
      ]
    },
    {
      "cell_type": "markdown",
      "source": [
        "SHA256 for Data Hashing"
      ],
      "metadata": {
        "id": "Ygz7f4TkYZ-e"
      }
    },
    {
      "cell_type": "code",
      "source": [
        "import hashlib\n",
        "\n",
        "def hash_data(data):\n",
        "    sha256 = hashlib.sha256()\n",
        "    sha256.update(data.encode('utf-8'))\n",
        "    return sha256.hexdigest()\n",
        "\n",
        "# Example usage\n",
        "data = \"Hello, World!\"\n",
        "hashed_data = hash_data(data)\n",
        "print(f\"Data: {data}\")\n",
        "print(f\"SHA256 Hash: {hashed_data}\")\n"
      ],
      "metadata": {
        "colab": {
          "base_uri": "https://localhost:8080/"
        },
        "id": "_TOK-13YYM4-",
        "outputId": "a6736792-c7e8-410f-d338-76c37cd32204"
      },
      "execution_count": 3,
      "outputs": [
        {
          "output_type": "stream",
          "name": "stdout",
          "text": [
            "Data: Hello, World!\n",
            "SHA256 Hash: dffd6021bb2bd5b0af676290809ec3a53191dd81c7f70a4b28688a362182986f\n"
          ]
        }
      ]
    },
    {
      "cell_type": "markdown",
      "source": [
        "Diffie-Hellman Key Exchange"
      ],
      "metadata": {
        "id": "V5Prk8UnYepH"
      }
    },
    {
      "cell_type": "code",
      "source": [
        "from cryptography.hazmat.backends import default_backend\n",
        "from cryptography.hazmat.primitives.asymmetric import dh\n",
        "from cryptography.hazmat.primitives import serialization\n",
        "\n",
        "def generate_dh_parameters():\n",
        "    # Generate Diffie-Hellman parameters\n",
        "    parameters = dh.generate_parameters(generator=2, key_size=2048, backend=default_backend())\n",
        "    return parameters\n",
        "\n",
        "def generate_dh_private_key(parameters):\n",
        "    # Generate a private key for these parameters\n",
        "    private_key = parameters.generate_private_key()\n",
        "    return private_key\n",
        "\n",
        "def generate_dh_public_key(private_key):\n",
        "    # Generate a public key corresponding to the private key\n",
        "    public_key = private_key.public_key()\n",
        "    return public_key\n",
        "\n",
        "def get_shared_secret(private_key, peer_public_key):\n",
        "    # Derive the shared secret\n",
        "    shared_secret = private_key.exchange(peer_public_key)\n",
        "    return shared_secret\n",
        "\n",
        "# Example usage\n",
        "parameters = generate_dh_parameters()\n",
        "private_key1 = generate_dh_private_key(parameters)\n",
        "public_key1 = generate_dh_public_key(private_key1)\n",
        "\n",
        "private_key2 = generate_dh_private_key(parameters)\n",
        "public_key2 = generate_dh_public_key(private_key2)\n",
        "\n",
        "# Exchange and derive the shared secret\n",
        "shared_secret1 = get_shared_secret(private_key1, public_key2)\n",
        "shared_secret2 = get_shared_secret(private_key2, public_key1)\n",
        "\n",
        "assert shared_secret1 == shared_secret2  # Both parties should have the same shared secret\n"
      ],
      "metadata": {
        "id": "yzw87OCRYTD_"
      },
      "execution_count": 5,
      "outputs": []
    },
    {
      "cell_type": "markdown",
      "source": [
        "RSA Implementation"
      ],
      "metadata": {
        "id": "NStlTkMcZg75"
      }
    },
    {
      "cell_type": "code",
      "source": [
        "from cryptography.hazmat.backends import default_backend\n",
        "from cryptography.hazmat.primitives.asymmetric import rsa\n",
        "from cryptography.hazmat.primitives import serialization\n",
        "from cryptography.hazmat.primitives.asymmetric import padding\n",
        "from cryptography.hazmat.primitives import hashes"
      ],
      "metadata": {
        "id": "pmVxGN3nZlJi"
      },
      "execution_count": 6,
      "outputs": []
    },
    {
      "cell_type": "code",
      "source": [
        "def generate_rsa_keys():\n",
        "    # Generate private key\n",
        "    private_key = rsa.generate_private_key(\n",
        "        public_exponent=65537,\n",
        "        key_size=2048,\n",
        "        backend=default_backend()\n",
        "    )\n",
        "    # Generate public key\n",
        "    public_key = private_key.public_key()\n",
        "    return private_key, public_key\n",
        "\n",
        "def rsa_encrypt(public_key, plaintext):\n",
        "    # Encrypt plaintext with the public key\n",
        "    ciphertext = public_key.encrypt(\n",
        "        plaintext,\n",
        "        padding.OAEP(\n",
        "            mgf=padding.MGF1(algorithm=hashes.SHA256()),\n",
        "            algorithm=hashes.SHA256(),\n",
        "            label=None\n",
        "        )\n",
        "    )\n",
        "    return ciphertext\n",
        "\n",
        "def rsa_decrypt(private_key, ciphertext):\n",
        "    # Decrypt ciphertext with the private key\n",
        "    plaintext = private_key.decrypt(\n",
        "        ciphertext,\n",
        "        padding.OAEP(\n",
        "            mgf=padding.MGF1(algorithm=hashes.SHA256()),\n",
        "            algorithm=hashes.SHA256(),\n",
        "            label=None\n",
        "        )\n",
        "    )\n",
        "    return plaintext\n",
        "\n",
        "# Example usage\n",
        "private_key, public_key = generate_rsa_keys()\n",
        "\n",
        "message = b\"Hello, RSA!\"\n",
        "ciphertext = rsa_encrypt(public_key, message)\n",
        "print(\"Encrypted:\", ciphertext)\n",
        "\n",
        "decrypted_message = rsa_decrypt(private_key, ciphertext)\n",
        "print(\"Decrypted:\", decrypted_message)\n"
      ],
      "metadata": {
        "colab": {
          "base_uri": "https://localhost:8080/"
        },
        "id": "OOxa4a_3YnmM",
        "outputId": "e605e4a2-7341-4400-8c8e-5c2523ec0eda"
      },
      "execution_count": 7,
      "outputs": [
        {
          "output_type": "stream",
          "name": "stdout",
          "text": [
            "Encrypted: b'd\\xbf~\\x04_\\x7f9\\x8d=\\x96\\x8f\\x13;\\xd4iy\\t\\xfa?\\x08&\\xce,\\x8aI\\x92h>\\x860\\t~\\xe5\\xbbf\\xc4\\xc4\\xfauV\\xa0\\x8a`\\xcf\\x19]\\xf9?\\xe7`\\x99\\xc1\\x7f`<Z\\x001\\x9e\\x04\\x98\\\\\\x0c\\x82,Ztp\\x1a\\x02\\xfcS\\xcc\\nM\\xd3\\xf4;\\xe3\\x9az\\xce\\xf0\\xacr\\xc5Oa\\xaaS\\xce`\\xddh\\xcc\\xfaO\\x00F\\xbb\\x10cn\\xa4\\xfc!\\xe6=\\x13\\xb5uGdA\\x05\\x11N\\xbaB\\x05Z\\x12\\xb9\\xef\\x82\\xfdV\\xb7\\xde\\x96\\x1fH\\x15\\xacBw\\xa1\\\\\\xf46\\xcf\\xb4g\\x8c\\xdb\\x0b\\x8a\"\\xa8\\xb13\\xd7\\x03\\x8e\\x05\\xcc\\xb1 #\\xb8\\x04\\x11\\xe7\\xfc\\x8d\\xac\\x18\\x0eS\\x15\\xaeU\\xcbe\\x06@\\xb1\\xbc\\xe5[\\xdf[P\\x86\\xfe\\x85K\\x16\\xf6%\\xd5>X\\xfeT\\xa0\\x0f\\xd9oa\\x04\\xf7\\xe5\\xe2\\x01\\x9a\\x0boI\\xc7\\x02\\n\\x05\\xe1\\x04\\x89w\\t=(\\xa5.\\x8cP\\x0f\\xeb8?RtH\\x11\\xba\\x8e\\xc3!\\xd4\\xcf\\x9a\\xad\\x1b{P;\\x86\\x1bdWp\\x10`F-\\xa8r='\n",
            "Decrypted: b'Hello, RSA!'\n"
          ]
        }
      ]
    },
    {
      "cell_type": "markdown",
      "source": [
        "Basic PKI System"
      ],
      "metadata": {
        "id": "P2NJREz0Zu3p"
      }
    },
    {
      "cell_type": "markdown",
      "source": [
        "1. Certificate Generation and Signing\n",
        "We'll create a self-signed certificate for simplicity. In a real-world scenario, you would have a Certificate Authority (CA) to sign the certificates."
      ],
      "metadata": {
        "id": "usCgc9cnZ9OY"
      }
    },
    {
      "cell_type": "code",
      "source": [
        "from cryptography import x509\n",
        "from cryptography.x509.oid import NameOID\n",
        "from datetime import datetime, timedelta\n",
        "import ipaddress\n",
        "\n",
        "def generate_self_signed_cert(private_key, public_key):\n",
        "    subject = issuer = x509.Name([\n",
        "        x509.NameAttribute(NameOID.COUNTRY_NAME, u\"US\"),\n",
        "        x509.NameAttribute(NameOID.STATE_OR_PROVINCE_NAME, u\"California\"),\n",
        "        x509.NameAttribute(NameOID.LOCALITY_NAME, u\"San Francisco\"),\n",
        "        x509.NameAttribute(NameOID.ORGANIZATION_NAME, u\"My Company\"),\n",
        "        x509.NameAttribute(NameOID.COMMON_NAME, u\"mysite.com\"),\n",
        "    ])\n",
        "    cert = x509.CertificateBuilder().subject_name(\n",
        "        subject\n",
        "    ).issuer_name(\n",
        "        issuer\n",
        "    ).public_key(\n",
        "        public_key\n",
        "    ).serial_number(\n",
        "        x509.random_serial_number()\n",
        "    ).not_valid_before(\n",
        "        datetime.utcnow()\n",
        "    ).not_valid_after(\n",
        "        # Our certificate will be valid for 10 days\n",
        "        datetime.utcnow() + timedelta(days=10)\n",
        "    ).add_extension(\n",
        "        x509.SubjectAlternativeName([x509.DNSName(u\"localhost\")]),\n",
        "        critical=False,\n",
        "    # Sign our certificate with our private key\n",
        "    ).sign(private_key, hashes.SHA256(), default_backend())\n",
        "    return cert\n",
        "\n",
        "# Example usage\n",
        "private_key, public_key = generate_rsa_keys()\n",
        "cert = generate_self_signed_cert(private_key, public_key)\n",
        "print(cert)\n"
      ],
      "metadata": {
        "colab": {
          "base_uri": "https://localhost:8080/"
        },
        "id": "VTaPV_oaZpXi",
        "outputId": "dfbc137f-7074-4058-bcaa-26fe2bb86982"
      },
      "execution_count": 8,
      "outputs": [
        {
          "output_type": "stream",
          "name": "stdout",
          "text": [
            "<Certificate(subject=<Name(C=US,ST=California,L=San Francisco,O=My Company,CN=mysite.com)>, ...)>\n"
          ]
        }
      ]
    },
    {
      "cell_type": "markdown",
      "source": [
        "2. Certificate Verification\n",
        "In a real-world scenario, you would verify the certificate against the CA's public key. Since we are using a self-signed certificate, we can verify it using its own public key."
      ],
      "metadata": {
        "id": "FtfdvoSXZ_8g"
      }
    },
    {
      "cell_type": "code",
      "source": [
        "def verify_certificate(cert, public_key):\n",
        "    # In a real-world scenario, you would use the CA's public key\n",
        "    try:\n",
        "        public_key.verify(\n",
        "            cert.signature,\n",
        "            cert.tbs_certificate_bytes,\n",
        "            padding.PKCS1v15(),\n",
        "            cert.signature_hash_algorithm,\n",
        "        )\n",
        "        return True\n",
        "    except Exception as e:\n",
        "        print(\"Verification failed:\", e)\n",
        "        return False\n",
        "\n",
        "# Example usage\n",
        "is_verified = verify_certificate(cert, public_key)\n",
        "print(\"Certificate verified:\", is_verified)\n"
      ],
      "metadata": {
        "colab": {
          "base_uri": "https://localhost:8080/"
        },
        "id": "Lw-l9_bTZ_UF",
        "outputId": "9be2585a-c632-45ea-98fa-297b7aefeec5"
      },
      "execution_count": 9,
      "outputs": [
        {
          "output_type": "stream",
          "name": "stdout",
          "text": [
            "Certificate verified: True\n"
          ]
        }
      ]
    },
    {
      "cell_type": "markdown",
      "source": [
        "Client-Server Architecture"
      ],
      "metadata": {
        "id": "Zw6ODmj3aTQp"
      }
    },
    {
      "cell_type": "markdown",
      "source": [
        "Server Setup\n",
        "The server will listen for incoming connections, perform the SSL/TLS handshake, and then communicate securely with the client."
      ],
      "metadata": {
        "id": "gJU1gzUcaVJB"
      }
    },
    {
      "cell_type": "code",
      "source": [
        "import socket\n",
        "import threading\n",
        "\n",
        "def handle_client(client_socket, client_address):\n",
        "    print(f\"Accepted connection from {client_address}\")\n",
        "\n",
        "    # Perform SSL/TLS handshake here (to be implemented)\n",
        "\n",
        "    # Secure communication (to be implemented)\n",
        "\n",
        "    client_socket.close()\n",
        "\n",
        "def start_server(host, port):\n",
        "    server = socket.socket(socket.AF_INET, socket.SOCK_STREAM)\n",
        "    server.bind((host, port))\n",
        "    server.listen(5)\n",
        "    print(f\"Listening on {host}:{port}\")\n",
        "\n",
        "    try:\n",
        "        while True:\n",
        "            client_socket, client_address = server.accept()\n",
        "            client_thread = threading.Thread(target=handle_client, args=(client_socket, client_address))\n",
        "            client_thread.start()\n",
        "    except KeyboardInterrupt:\n",
        "        print(\"Server shutting down.\")\n",
        "        server.close()\n",
        "\n",
        "# Example usage\n",
        "HOST = '127.0.0.1'\n",
        "PORT = 65432\n",
        "start_server(HOST, PORT)\n"
      ],
      "metadata": {
        "colab": {
          "base_uri": "https://localhost:8080/"
        },
        "id": "63oJevTdaDTY",
        "outputId": "e4e4de77-49b2-4e82-fe06-fadc3cd1ffbb"
      },
      "execution_count": 10,
      "outputs": [
        {
          "output_type": "stream",
          "name": "stdout",
          "text": [
            "Listening on 127.0.0.1:65432\n",
            "Server shutting down.\n"
          ]
        }
      ]
    },
    {
      "cell_type": "markdown",
      "source": [
        "Simplified Handshake Protocol\n",
        "The handshake will involve the following steps:\n",
        "\n",
        "Client Hello: The client sends a hello message with its RSA public key.\n",
        "\n",
        "Server Hello: The server responds with its RSA public key.\n",
        "\n",
        "Key Exchange: Both parties use the received public key to encrypt a generated\n",
        "AES key and send it to the other party.\n",
        "\n",
        "Establishment of a Secure Channel: Both parties decrypt the received AES key and use it for further communication."
      ],
      "metadata": {
        "id": "SakF3bqAargj"
      }
    },
    {
      "cell_type": "markdown",
      "source": [
        "Server-Side Handshake\n",
        "Here's how the server-side handshake can be implemented:"
      ],
      "metadata": {
        "id": "h41AjNS7axOc"
      }
    },
    {
      "cell_type": "code",
      "source": [
        "import socket\n",
        "import threading\n",
        "\n",
        "\n",
        "def handle_client(client_socket, client_address):\n",
        "    print(f\"Accepted connection from {client_address}\")\n",
        "\n",
        "    # Perform SSL/TLS handshake\n",
        "    aes_key = server_handshake(client_socket)\n",
        "    aes_cipher = AESCipher(aes_key)\n",
        "\n",
        "    # Secure communication\n",
        "    encrypted_message = receive_data(client_socket)\n",
        "    message = aes_cipher.decrypt(encrypted_message)\n",
        "    print(f\"Received from {client_address}: {message}\")\n",
        "\n",
        "    client_socket.close()\n",
        "\n",
        "def start_server(host, port):\n",
        "    server = socket.socket(socket.AF_INET, socket.SOCK_STREAM)\n",
        "    server.bind((host, port))\n",
        "    server.listen(5)\n",
        "    print(f\"Listening on {host}:{port}\")\n",
        "\n",
        "    try:\n",
        "        while True:\n",
        "            client_socket, client_address = server.accept()\n",
        "            client_thread = threading.Thread(target=handle_client, args=(client_socket, client_address))\n",
        "            client_thread.start()\n",
        "    except KeyboardInterrupt:\n",
        "        print(\"Server shutting down.\")\n",
        "        server.close()\n",
        "\n",
        "# Example usage\n",
        "HOST = '127.0.0.1'\n",
        "PORT = 65432\n",
        "start_server(HOST, PORT)\n"
      ],
      "metadata": {
        "colab": {
          "base_uri": "https://localhost:8080/"
        },
        "id": "OCq2iQUdcwNk",
        "outputId": "95c5c2db-be1f-4912-de83-cdba568c8bf8"
      },
      "execution_count": 13,
      "outputs": [
        {
          "output_type": "stream",
          "name": "stdout",
          "text": [
            "Listening on 127.0.0.1:65432\n",
            "Server shutting down.\n"
          ]
        }
      ]
    },
    {
      "cell_type": "code",
      "source": [
        "def server_handshake(client_socket):\n",
        "    # Receive client's public key\n",
        "    client_public_key = receive_public_key(client_socket)\n",
        "\n",
        "    # Send server's public key\n",
        "    server_private_key, server_public_key = generate_rsa_keys()\n",
        "    send_public_key(client_socket, server_public_key)\n",
        "\n",
        "    # Receive encrypted AES key from client and decrypt it\n",
        "    encrypted_aes_key = receive_data(client_socket)\n",
        "    aes_key = rsa_decrypt(server_private_key, encrypted_aes_key)\n",
        "\n",
        "    return aes_key\n",
        "\n",
        "def send_public_key(socket, public_key):\n",
        "    # Serialize and send the public key\n",
        "    pem = public_key.public_bytes(\n",
        "        encoding=serialization.Encoding.PEM,\n",
        "        format=serialization.PublicFormat.SubjectPublicKeyInfo\n",
        "    )\n",
        "    socket.sendall(pem)\n",
        "\n",
        "def receive_public_key(socket):\n",
        "    # Receive and deserialize the public key\n",
        "    pem = socket.recv(2048)\n",
        "    public_key = serialization.load_pem_public_key(pem, backend=default_backend())\n",
        "    return public_key\n",
        "\n",
        "def receive_data(socket):\n",
        "    # Receive data\n",
        "    data = socket.recv(2048)\n",
        "    return data"
      ],
      "metadata": {
        "id": "WxqG1VUfafnu"
      },
      "execution_count": 14,
      "outputs": []
    },
    {
      "cell_type": "markdown",
      "source": [
        "Client-Side Handshake\n",
        "And here's the client-side handshake:"
      ],
      "metadata": {
        "id": "DYijJmAObs2P"
      }
    },
    {
      "cell_type": "code",
      "source": [
        "def client_handshake(server_socket):\n",
        "    # Generate client's RSA keys and send public key\n",
        "    client_private_key, client_public_key = generate_rsa_keys()\n",
        "    send_public_key(server_socket, client_public_key)\n",
        "\n",
        "    # Receive server's public key\n",
        "    server_public_key = receive_public_key(server_socket)\n",
        "\n",
        "    # Generate AES key, encrypt with server's public key, and send\n",
        "    aes_key = os.urandom(32)  # AES-256 key\n",
        "    encrypted_aes_key = rsa_encrypt(server_public_key, aes_key)\n",
        "    send_data(server_socket, encrypted_aes_key)\n",
        "\n",
        "    return aes_key\n",
        "\n",
        "def start_client(host, port):\n",
        "    with socket.socket(socket.AF_INET, socket.SOCK_STREAM) as client:\n",
        "        client.connect((host, port))\n",
        "\n",
        "        # Perform SSL/TLS handshake\n",
        "        aes_key = client_handshake(client)\n",
        "        aes_cipher = AESCipher(aes_key)\n",
        "\n",
        "        # Secure communication\n",
        "        message = \"Hello, secure world!\"\n",
        "        encrypted_message = aes_cipher.encrypt(message.encode())\n",
        "        send_data(client, encrypted_message)\n",
        "\n",
        "# Example usage\n",
        "HOST = '127.0.0.1'\n",
        "PORT = 65432\n",
        "start_client(HOST, PORT)\n"
      ],
      "metadata": {
        "id": "FV2WMrHGbqWq"
      },
      "execution_count": null,
      "outputs": []
    }
  ]
}